{
 "cells": [
  {
   "cell_type": "code",
   "execution_count": 11,
   "id": "dca97149",
   "metadata": {},
   "outputs": [
    {
     "name": "stdout",
     "output_type": "stream",
     "text": [
      "Jogo dos fósforos, o número inicial é o 21. Cada jogador pode tirar apenas entre 1 a 4 fósforos. Quem tirar o último perde!\n",
      "O computador tirou 4 fósforos. Faltam 17 fósforos.\n",
      "Tiraste 4 fósforos. Faltam 13 fósforos. \n",
      "O computador tirou 2 fósforos. Faltam 11 fósforos.\n",
      "Tiraste 4 fósforos. Faltam 7 fósforos. \n",
      "O computador tirou 1 fósforos. Faltam 6 fósforos.\n",
      "Tiraste 4 fósforos. Faltam 2 fósforos. \n",
      "O computador tirou 1 fósforos. Faltam 1 fósforos.\n",
      "Perdeste, o computador ganhou!\n"
     ]
    }
   ],
   "source": [
    "import random\n",
    "\n",
    "\n",
    "soma = 21\n",
    "print(\"Jogo dos fósforos, o número inicial é o 21. Cada jogador pode tirar apenas entre 1 a 4 fósforos. Quem tirar o último perde!\")\n",
    "\n",
    "play = int(input(\"Quem começa o jogo? (1=tu, 2=computador):\"))\n",
    "\n",
    "if play == 1:\n",
    "\n",
    "    while soma > 1:\n",
    "        n = int(input(\"Diz um número de fósforos (1-4): \"))\n",
    "        while n < 1 or n > 4 or n > soma:\n",
    "            print(\"Número inválido, escolhe entre 1 e 4, e não maior que os restantes fósforos. \")\n",
    "            n = int(input(\"Diz um número de fósforos (1-4): \"))\n",
    "        \n",
    "        soma -= n\n",
    "        print(f\"Tiraste {n} fósforos. Faltam {soma} fósforos.\")\n",
    "\n",
    "        if soma == 1:\n",
    "            print(\"Ganhaste, o computador perdeu!\")\n",
    "            break\n",
    "\n",
    "else:\n",
    "\n",
    "    comp = random.randint(1,4)\n",
    "    soma -= comp\n",
    "    print(f\"O computador tirou {comp} fósforos. Faltam {soma} fósforos.\")\n",
    "\n",
    "    while soma > 1:\n",
    "        n = int(input(\"Diz um número de fósforos (1-4): \"))\n",
    "        while n < 1 or n > 4 or n > soma:\n",
    "            print(\"Número inválido, escolhe entre 1 e 4, e não maior que o número de fósforos restantes\")\n",
    "            n = int(input(\"Diz um número de fósforos (1-4: \"))\n",
    "\n",
    "        soma -= n\n",
    "        print(f\"Tiraste {n} fósforos. Faltam {soma} fósforos. \")\n",
    "              \n",
    "        if soma == 1:\n",
    "            print(\"Ganhaste! O Computador perdeu\")\n",
    "            break\n",
    "        \n",
    "\n",
    "        if soma % 5 != 1:\n",
    "            comp = (soma - 1) % 5\n",
    "            if comp == 0:\n",
    "                comp = random.randint(1, min(4,soma - 1))\n",
    "        else:\n",
    "            comp = random.randint(1, min(4, soma - 1))\n",
    "    \n",
    "        soma -= comp \n",
    "        print(f\"O computador tirou {comp} fósforos. Faltam {soma} fósforos.\")\n",
    "\n",
    "        if soma == 1:\n",
    "            print(\"Perdeste, o computador ganhou!\")\n",
    "        \n",
    "        \n",
    "\n",
    "   \n",
    "\n",
    "\n",
    "\n",
    "\n",
    "\n",
    "\n",
    "\n",
    "\n",
    "\n",
    "                \n"
   ]
  }
 ],
 "metadata": {
  "kernelspec": {
   "display_name": "Python 3",
   "language": "python",
   "name": "python3"
  },
  "language_info": {
   "codemirror_mode": {
    "name": "ipython",
    "version": 3
   },
   "file_extension": ".py",
   "mimetype": "text/x-python",
   "name": "python",
   "nbconvert_exporter": "python",
   "pygments_lexer": "ipython3",
   "version": "3.13.7"
  }
 },
 "nbformat": 4,
 "nbformat_minor": 5
}
